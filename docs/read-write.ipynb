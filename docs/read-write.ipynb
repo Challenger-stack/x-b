{
 "cells": [
  {
   "cell_type": "markdown",
   "id": "8e4f05ea",
   "metadata": {},
   "source": [
    "# Reading and writing data"
   ]
  },
  {
   "cell_type": "markdown",
   "id": "480ac360",
   "metadata": {},
   "source": [
    "## Read datasets into chunks"
   ]
  },
  {
   "cell_type": "markdown",
   "id": "f43f8a6b",
   "metadata": {},
   "source": [
    "There are two main options for loading an `xarray.Dataset` into Xarray-Beam. You can either [create the dataset](data-model.ipynb) from scratch or use the {py:class}`~xarray_beam.DatasetToChunks` transform starting at the root of a Beam pipeline:"
   ]
  },
  {
   "cell_type": "code",
   "execution_count": 42,
   "id": "5923b201",
   "metadata": {},
   "outputs": [],
   "source": [
    "# hidden imports & helper functions"
   ]
  },
  {
   "cell_type": "code",
   "execution_count": 39,
   "id": "bc5bfdc0",
   "metadata": {
    "tags": [
     "hide-input"
    ]
   },
   "outputs": [],
   "source": [
    "import textwrap\n",
    "import apache_beam as beam\n",
    "import xarray_beam as xbeam\n",
    "import xarray\n",
    "\n",
    "def summarize_dataset(dataset):\n",
    "    return f'<xarray.Dataset data_vars={list(dataset.data_vars)} dims={dict(dataset.sizes)}>'\n",
    "\n",
    "def print_summary(key, chunk):\n",
    "    print(f'{key}\\n  with {summarize_dataset(chunk)}')"
   ]
  },
  {
   "cell_type": "code",
   "execution_count": 40,
   "id": "2308b160",
   "metadata": {},
   "outputs": [],
   "source": [
    "ds = xarray.tutorial.load_dataset('air_temperature')"
   ]
  },
  {
   "cell_type": "code",
   "execution_count": 41,
   "id": "e94b9b00",
   "metadata": {},
   "outputs": [
    {
     "name": "stderr",
     "output_type": "stream",
     "text": [
      "WARNING:root:Make sure that locally built Python SDK docker image has Python 3.9 interpreter.\n"
     ]
    },
    {
     "name": "stdout",
     "output_type": "stream",
     "text": [
      "Key(offsets={'lat': 0, 'lon': 0, 'time': 0}, vars=None)\n",
      "  with <xarray.Dataset data_vars=['air'] dims={'lat': 25, 'time': 1000, 'lon': 53}>\n",
      "Key(offsets={'lat': 0, 'lon': 0, 'time': 1000}, vars=None)\n",
      "  with <xarray.Dataset data_vars=['air'] dims={'lat': 25, 'time': 1000, 'lon': 53}>\n",
      "Key(offsets={'lat': 0, 'lon': 0, 'time': 2000}, vars=None)\n",
      "  with <xarray.Dataset data_vars=['air'] dims={'lat': 25, 'time': 920, 'lon': 53}>\n"
     ]
    }
   ],
   "source": [
    "with beam.Pipeline() as p:\n",
    "    p | xbeam.DatasetToChunks(ds, chunks={'time': 1000}) | beam.MapTuple(print_summary)"
   ]
  },
  {
   "cell_type": "markdown",
   "id": "2f0e5efb",
   "metadata": {},
   "source": [
    "Importantly, xarray datasets fed into `DatasetToChunks` **can be lazy**, with data not already loaded eagerly into NumPy arrays. When you feed lazy datasets into `DatasetToChunks`, each individual chunk will be indexed and evaluated separately on Beam workers.\n",
    "\n",
    "This pattern allows for leveraging Xarray's builtin dataset loaders (e.g., `open_dataset()` and `open_zarr()`) for feeding arbitrarily large datasets into Xarray-Beam.\n",
    "\n",
    "For best performance, set `chunks=None` when opening datasets and then _explicitly_ provide chunks in `DatasetToChunks`:"
   ]
  },
  {
   "cell_type": "code",
   "execution_count": 47,
   "id": "8a0d0091",
   "metadata": {},
   "outputs": [
    {
     "name": "stderr",
     "output_type": "stream",
     "text": [
      "WARNING:root:Make sure that locally built Python SDK docker image has Python 3.9 interpreter.\n"
     ]
    },
    {
     "name": "stdout",
     "output_type": "stream",
     "text": [
      "Key(offsets={'lat': 0, 'lon': 0, 'time': 0}, vars=None)\n",
      "  with <xarray.Dataset data_vars=['air'] dims={'time': 1000, 'lat': 25, 'lon': 53}>\n",
      "Key(offsets={'lat': 0, 'lon': 0, 'time': 1000}, vars=None)\n",
      "  with <xarray.Dataset data_vars=['air'] dims={'time': 1000, 'lat': 25, 'lon': 53}>\n",
      "Key(offsets={'lat': 0, 'lon': 0, 'time': 2000}, vars=None)\n",
      "  with <xarray.Dataset data_vars=['air'] dims={'time': 920, 'lat': 25, 'lon': 53}>\n"
     ]
    }
   ],
   "source": [
    "# write data into the distributed Zarr format\n",
    "ds.chunk({'time': 1000}).to_zarr('example-data.zarr', mode='w')\n",
    "\n",
    "# load it with zarr\n",
    "on_disk = xarray.open_zarr('example-data.zarr', chunks=None)\n",
    "\n",
    "with beam.Pipeline() as p:\n",
    "    p | xbeam.DatasetToChunks(on_disk, chunks={'time': 1000}) | beam.MapTuple(print_summary)"
   ]
  },
  {
   "cell_type": "markdown",
   "id": "de622acb",
   "metadata": {},
   "source": [
    "`chunks=None` tells Xarray to use its builtin lazy indexing machinery, instead of using Dask. This is advantageous because datasets using Xarray's lazy indexing are serialized much more compactly (via [pickle](https://docs.python.org/3/library/pickle.html)) when passed into Beam transforms."
   ]
  },
  {
   "cell_type": "markdown",
   "id": "e4dc8c82",
   "metadata": {},
   "source": [
    "Alternatively, you can pass in lazy datasets [using dask](http://xarray.pydata.org/en/stable/user-guide/dask.html). In this case, you don't need to explicitly supply `chunks` to `DatasetToChunks`:"
   ]
  },
  {
   "cell_type": "code",
   "execution_count": 49,
   "id": "b61440aa",
   "metadata": {},
   "outputs": [
    {
     "name": "stderr",
     "output_type": "stream",
     "text": [
      "WARNING:root:Make sure that locally built Python SDK docker image has Python 3.9 interpreter.\n"
     ]
    },
    {
     "name": "stdout",
     "output_type": "stream",
     "text": [
      "Key(offsets={'lat': 0, 'lon': 0, 'time': 0}, vars=None)\n",
      "  with <xarray.Dataset data_vars=['air'] dims={'time': 1000, 'lat': 25, 'lon': 53}>\n",
      "Key(offsets={'lat': 0, 'lon': 0, 'time': 1000}, vars=None)\n",
      "  with <xarray.Dataset data_vars=['air'] dims={'time': 1000, 'lat': 25, 'lon': 53}>\n",
      "Key(offsets={'lat': 0, 'lon': 0, 'time': 2000}, vars=None)\n",
      "  with <xarray.Dataset data_vars=['air'] dims={'time': 920, 'lat': 25, 'lon': 53}>\n"
     ]
    }
   ],
   "source": [
    "on_disk = xarray.open_zarr('example-data.zarr', chunks={'time': 1000})\n",
    "\n",
    "with beam.Pipeline() as p:\n",
    "    p | xbeam.DatasetToChunks(on_disk) | beam.MapTuple(print_summary)"
   ]
  },
  {
   "cell_type": "markdown",
   "id": "d73c6398",
   "metadata": {},
   "source": [
    "Dask's lazy evaluation system is much more general than Xarray's lazy indexing, so as long as resulting dataset can be independently evaluated in each chunk this can be a very convenient way to setup computation for Xarray-Beam.\n",
    "\n",
    "Unfortunately, it doesn't scale as well. In particular, the overhead of pickling large Dask graphs for passing to Beam workers can be prohibitive for large (typically multiple TB) datasets with millions of chunks. However, a current major effort in Dask on [high level graphs](https://blog.dask.org/2021/07/07/high-level-graphs) should improve this in the near future."
   ]
  },
  {
   "cell_type": "markdown",
   "id": "4c4dfd42",
   "metadata": {},
   "source": [
    "```{note}\n",
    "We are still figuring out the optimal APIs to facilitate opening data and building lazy datasets in Xarray-Beam. E.g., see [this issue](https://github.com/google/xarray-beam/issues/26) for discussion of a higher level `ZarrToChunks` transform embedding these best practices.\n",
    "```"
   ]
  },
  {
   "cell_type": "markdown",
   "id": "233809a4",
   "metadata": {},
   "source": [
    "## Writing data to Zarr"
   ]
  },
  {
   "cell_type": "markdown",
   "id": "2f415ceb",
   "metadata": {},
   "source": [
    "[Zarr](https://zarr.readthedocs.io/) is the preferred file format for reading and writing data with Xarray-Beam, due to its excellent scalability and support inside Xarray.\n",
    "\n",
    "{py:class}`~xarray_beam.ChunksToZarr` is Xarray-Beam's API for saving chunks into a Zarr store. \n",
    "\n",
    "You can get started just using it directly:"
   ]
  },
  {
   "cell_type": "code",
   "execution_count": 50,
   "id": "9c6efa33",
   "metadata": {},
   "outputs": [
    {
     "name": "stderr",
     "output_type": "stream",
     "text": [
      "WARNING:root:Make sure that locally built Python SDK docker image has Python 3.9 interpreter.\n"
     ]
    }
   ],
   "source": [
    "with beam.Pipeline() as p:\n",
    "    p | xbeam.DatasetToChunks(on_disk) | xbeam.ChunksToZarr('example-data-v2.zarr')"
   ]
  },
  {
   "cell_type": "markdown",
   "id": "04c0f50b",
   "metadata": {},
   "source": [
    "By default, `ChunksToZarr` needs to evaluate and combine the entire distributed dataset in order to determine overall Zarr metadata (e.g., array names, shapes, dtypes and attributes). This is fine for relatively small datasets, but can entail significant additional communication and storage costs for large datasets.\n",
    "\n",
    "The optional `template` argument allows for prespecifying structure of the full on disk dataset in the form of another lazy `xarray.Dataset`. Like the lazy datasets fed into DatasetToChunks, lazy templates can built-up using either Xarray's lazy indexing or lazy operations with Dask, but the data _values_ in a `template` will never be written to disk -- only the metadata structure is used.\n",
    "\n",
    "One recommended pattern is to use a lazy Dask dataset consisting of a single value to build up the desired template, e.g.,"
   ]
  },
  {
   "cell_type": "code",
   "execution_count": 55,
   "id": "993191db",
   "metadata": {},
   "outputs": [],
   "source": [
    "ds = xarray.open_zarr('example-data.zarr', chunks=None)\n",
    "template = xarray.zeros_like(ds.chunk())  # a single virtual chunk of all zeros"
   ]
  },
  {
   "cell_type": "markdown",
   "id": "e70cd961",
   "metadata": {},
   "source": [
    "Xarray operations like indexing and expand dimensions (see {py:meth}`xarray.Dataset.expand_dims`) are entirely lazy on this dataset, which makes it relatively straightforward to build up a Dataset with the required variables and dimensions, e.g., as used in the [ERA5 climatology example](https://github.com/google/xarray-beam/blob/main/examples/era5_climatology.py)."
   ]
  }
 ],
 "metadata": {
  "celltoolbar": "Tags",
  "kernelspec": {
   "display_name": "Python 3",
   "language": "python",
   "name": "python3"
  },
  "language_info": {
   "codemirror_mode": {
    "name": "ipython",
    "version": 3
   },
   "file_extension": ".py",
   "mimetype": "text/x-python",
   "name": "python",
   "nbconvert_exporter": "python",
   "pygments_lexer": "ipython3",
   "version": "3.9.6"
  }
 },
 "nbformat": 4,
 "nbformat_minor": 5
}
