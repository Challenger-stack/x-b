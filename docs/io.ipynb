{
 "cells": [
  {
   "cell_type": "markdown",
   "id": "8e4f05ea",
   "metadata": {},
   "source": [
    "# Loading and saving data"
   ]
  },
  {
   "cell_type": "markdown",
   "id": "0de145f4",
   "metadata": {},
   "source": [
    "TODO(shoyer): write this page!\n",
    "\n",
    "- Discuss options for lazy datasets: xarray's lazy indexing vs dask\n",
    "- Discuss nuances of loading data, e.g., feeding in Dask datasets into DatasetToChunks\n",
    "- Discuss nuances of ChunksToZarr (including `template`)\n"
   ]
  }
 ],
 "metadata": {
  "kernelspec": {
   "display_name": "Python 3",
   "language": "python",
   "name": "python3"
  },
  "language_info": {
   "codemirror_mode": {
    "name": "ipython",
    "version": 3
   },
   "file_extension": ".py",
   "mimetype": "text/x-python",
   "name": "python",
   "nbconvert_exporter": "python",
   "pygments_lexer": "ipython3",
   "version": "3.9.6"
  }
 },
 "nbformat": 4,
 "nbformat_minor": 5
}
