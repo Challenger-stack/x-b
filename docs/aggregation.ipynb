{
 "cells": [
  {
   "cell_type": "markdown",
   "id": "aaf2f2cb",
   "metadata": {},
   "source": [
    "# Aggregation\n",
    "\n",
    "Xarray-Beam can perfrom distributed data aggregation in the \"map-reduce\" model. This currently only includes `Mean`, but we would welcome other contributions."
   ]
  },
  {
   "cell_type": "markdown",
   "id": "4b77b953",
   "metadata": {},
   "source": [
    "Note that {py:class}`Mean.Globally <xarray_beam.Mean.Globally>` and {py:class}`Mean.PerKey <xarray_beam.Mean.PerKey>` are modelled off of [`beam.Mean`](https://beam.apache.org/documentation/transforms/python/aggregation/mean/) rather than {py:meth}`xarray.Dataset.mean`: they compute averages over sequences of `xarray.Dataset` objects, rather than calculating an average over a dimension."
   ]
  },
  {
   "cell_type": "markdown",
   "id": "37193539",
   "metadata": {},
   "source": [
    "If you want to average over dimension, you'll currently need to do that aggregation yourself, e.g., by averaging inside each chunk before combining the data."
   ]
  },
  {
   "cell_type": "markdown",
   "id": "c9db1627",
   "metadata": {},
   "source": [
    "TODO(shoyer): add code examples! For now, look at [ERA5 climatology](https://github.com/google/xarray-beam/blob/main/examples/era5_climatology.py)"
   ]
  }
 ],
 "metadata": {
  "kernelspec": {
   "display_name": "Python 3",
   "language": "python",
   "name": "python3"
  },
  "language_info": {
   "codemirror_mode": {
    "name": "ipython",
    "version": 3
   },
   "file_extension": ".py",
   "mimetype": "text/x-python",
   "name": "python",
   "nbconvert_exporter": "python",
   "pygments_lexer": "ipython3",
   "version": "3.9.6"
  }
 },
 "nbformat": 4,
 "nbformat_minor": 5
}
