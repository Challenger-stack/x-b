{
 "cells": [
  {
   "cell_type": "markdown",
   "source": [
    "# Core data model"
   ],
   "metadata": {}
  },
  {
   "cell_type": "markdown",
   "source": [
    "Xarray-Beam tries to make it _straightforward_ to write distributed pipelines with Xarray objects, but unlike libraries like [Xarray with Dask](http://xarray.pydata.org/en/stable/user-guide/dask.html) or Dask/Spark DataFrames, it doesn't hide the distributed magic inside high-level objects.\n",
    "\n",
    "Xarray-Beam is a lower-level tool. You will be manipulating large datasets piece-by-piece yourself, and you as the developer will be responsible for maintaining Xarray-Beam's internal invariants. This means that to successfully use Xarray-Beam, **you will need to understand how how it represents distributed datasets**.\n",
    "\n",
    "This responsibility requires a bit more coding and understanding, but offers benefits in performance and flexibility. This brief tutorial will show you how.\n",
    "\n",
    "We'll start off with some standard imports:"
   ],
   "metadata": {}
  },
  {
   "cell_type": "code",
   "execution_count": 16,
   "source": [
    "import apache_beam as beam\n",
    "import numpy as np\n",
    "import xarray_beam as xbeam\n",
    "import xarray"
   ],
   "outputs": [],
   "metadata": {}
  },
  {
   "cell_type": "markdown",
   "source": [
    "## Keys in Xarray-Beam\n",
    "\n",
    "Xarray-Beam is designed around the model that every stage in your Beam pipeline _could_ be stored in a single `xarray.Dataset` object, but is instead represented by a distributed beam `PCollection` of smaller `xarray.Dataset` objects, distributed in two possible ways:\n",
    "\n",
    "- Distinct _variables_ in a Dataset may be separated across multiple records.\n",
    "- Individual arrays can also be split into multiple _chunks_, similar to those used by [dask.array](https://docs.dask.org/en/latest/array.html).\n",
    "\n",
    "To keep track of how individual records could be combined into a larger (virtual) dataset, Xarray-Beam defines a {py:class}`~xarray_beam.Key` object. Key objects consist of:\n",
    "\n",
    "1. `offsets`: integer offests for chunks from the origin in an `immutabledict`\n",
    "2. `vars`: The subset of variables included in each chunk, either as a `frozenset`, or as `None` to indicate \"all variables\"."
   ],
   "metadata": {}
  },
  {
   "cell_type": "markdown",
   "source": [
    "Making a {py:class}`~xarray_beam.Key` from scratch is simple:"
   ],
   "metadata": {}
  },
  {
   "cell_type": "code",
   "execution_count": 2,
   "source": [
    "key = xbeam.Key({'x': 0, 'y': 10}, vars=None)\n",
    "key"
   ],
   "outputs": [
    {
     "output_type": "execute_result",
     "data": {
      "text/plain": [
       "Key(offsets={'x': 0, 'y': 10}, vars=None)"
      ]
     },
     "metadata": {},
     "execution_count": 2
    }
   ],
   "metadata": {}
  },
  {
   "cell_type": "markdown",
   "source": [
    "Or given an existing {py:class}`~xarray_beam.Key`, you can easily modify it with `replace()` or `with_offsets()`:"
   ],
   "metadata": {}
  },
  {
   "cell_type": "code",
   "execution_count": 3,
   "source": [
    "key.replace(vars={'foo', 'bar'})"
   ],
   "outputs": [
    {
     "output_type": "execute_result",
     "data": {
      "text/plain": [
       "Key(offsets={'x': 0, 'y': 10}, vars={'bar', 'foo'})"
      ]
     },
     "metadata": {},
     "execution_count": 3
    }
   ],
   "metadata": {}
  },
  {
   "cell_type": "code",
   "execution_count": 4,
   "source": [
    "key.with_offsets(x=None, z=1)"
   ],
   "outputs": [
    {
     "output_type": "execute_result",
     "data": {
      "text/plain": [
       "Key(offsets={'y': 10, 'z': 1}, vars=None)"
      ]
     },
     "metadata": {},
     "execution_count": 4
    }
   ],
   "metadata": {}
  },
  {
   "cell_type": "markdown",
   "source": [
    "{py:class}`~xarray_beam.Key` objects don't do very much. They are just simple structs with two attributes, along with various special methods required to use them as `dict` keys or as keys in Beam pipelines. You can find a more examples of manipulating keys {py:class}`in its docstring <xarray_beam.Key>`."
   ],
   "metadata": {}
  },
  {
   "cell_type": "markdown",
   "source": [
    "## Creating PCollections"
   ],
   "metadata": {}
  },
  {
   "cell_type": "markdown",
   "source": [
    "The standard inputs & outputs for Xarray-Beam are PCollections of tuples of `(xbeam.Key, xarray.Dataset)` pairs. Xarray-Beam provides a bunch of PCollections for typical tasks, but many pipelines will still involve some manual manipulation of `Key` and `Dataset` objects, e.g., with builtin Beam transforms like `beam.Map`.\n",
    "\n",
    "To start off, let's write a helper functions for creating our first collection from scratch:"
   ],
   "metadata": {}
  },
  {
   "cell_type": "code",
   "execution_count": 67,
   "source": [
    "def create_records():\n",
    "    for offset in [0, 4]:\n",
    "        key = xbeam.Key({'x': offset, 'y': 0})\n",
    "        data = 2 * offset + np.arange(8).reshape(4, 2)\n",
    "        chunk = xarray.Dataset({\n",
    "            'foo': (('x', 'y'), data),\n",
    "            'bar': (('x', 'y'), 100 + data),\n",
    "        })\n",
    "        yield key, chunk"
   ],
   "outputs": [],
   "metadata": {}
  },
  {
   "cell_type": "markdown",
   "source": [
    "Let's take a look the entries, which are lazily constructed with the generator:"
   ],
   "metadata": {}
  },
  {
   "cell_type": "code",
   "execution_count": 68,
   "source": [
    "inputs = list(create_records())"
   ],
   "outputs": [],
   "metadata": {}
  },
  {
   "cell_type": "code",
   "execution_count": 69,
   "source": [
    "inputs"
   ],
   "outputs": [
    {
     "output_type": "execute_result",
     "data": {
      "text/plain": [
       "[(Key(offsets={'x': 0, 'y': 0}, vars=None),\n",
       "  <xarray.Dataset>\n",
       "  Dimensions:  (x: 4, y: 2)\n",
       "  Dimensions without coordinates: x, y\n",
       "  Data variables:\n",
       "      foo      (x, y) int64 0 1 2 3 4 5 6 7\n",
       "      bar      (x, y) int64 100 101 102 103 104 105 106 107),\n",
       " (Key(offsets={'x': 4, 'y': 0}, vars=None),\n",
       "  <xarray.Dataset>\n",
       "  Dimensions:  (x: 4, y: 2)\n",
       "  Dimensions without coordinates: x, y\n",
       "  Data variables:\n",
       "      foo      (x, y) int64 8 9 10 11 12 13 14 15\n",
       "      bar      (x, y) int64 108 109 110 111 112 113 114 115)]"
      ]
     },
     "metadata": {},
     "execution_count": 69
    }
   ],
   "metadata": {}
  },
  {
   "cell_type": "markdown",
   "source": [
    "```{note}\n",
    "There are multiple valid ways to represent a chunk of a larger dataset with a `Key`.\n",
    "\n",
    "- **Offsets for unchunked dimensions are optional**. Because all chunks have the same offset along the `y` axis, including `y` in `offsets` is not required as long as we don't need to create multiple chunks along that dimension.\n",
    "- **Indicating variables is optional, if all chunks have the same variables**. We could have set `vars={'foo', 'bar'}` on each of these `Key` objects instead of `vars=None`. This would be an equally valid representation of the same records, since all of our datasets have the same variables.\n",
    "```"
   ],
   "metadata": {}
  },
  {
   "cell_type": "markdown",
   "source": [
    "We now have the inputs we need to use Xarray-Beam's helper functions and PTransforms. For example, we can fully consolidate chunks & variables to see what single `xarray.Dataset` these values would correspond to:"
   ],
   "metadata": {}
  },
  {
   "cell_type": "code",
   "execution_count": 70,
   "source": [
    "xbeam.consolidate_fully(inputs)"
   ],
   "outputs": [
    {
     "output_type": "execute_result",
     "data": {
      "text/plain": [
       "(Key(offsets={'x': 0, 'y': 0}, vars={'bar', 'foo'}),\n",
       " <xarray.Dataset>\n",
       " Dimensions:  (x: 8, y: 2)\n",
       " Dimensions without coordinates: x, y\n",
       " Data variables:\n",
       "     foo      (x, y) int64 0 1 2 3 4 5 6 7 8 9 10 11 12 13 14 15\n",
       "     bar      (x, y) int64 100 101 102 103 104 105 ... 110 111 112 113 114 115)"
      ]
     },
     "metadata": {},
     "execution_count": 70
    }
   ],
   "metadata": {}
  },
  {
   "cell_type": "markdown",
   "source": [
    "To execute with Beam, of course, we need to turn Python lists/generators into Beam PCollections, e.g., with `beam.Create()`:"
   ],
   "metadata": {}
  },
  {
   "cell_type": "code",
   "execution_count": 71,
   "source": [
    "with beam.Pipeline() as p:\n",
    "    p | beam.Create(create_records()) | beam.Map(print)"
   ],
   "outputs": [
    {
     "output_type": "stream",
     "name": "stderr",
     "text": [
      "WARNING:root:Make sure that locally built Python SDK docker image has Python 3.9 interpreter.\n"
     ]
    },
    {
     "output_type": "stream",
     "name": "stdout",
     "text": [
      "(Key(offsets={'x': 0, 'y': 0}, vars=None), <xarray.Dataset>\n",
      "Dimensions:  (x: 4, y: 2)\n",
      "Dimensions without coordinates: x, y\n",
      "Data variables:\n",
      "    foo      (x, y) int64 0 1 2 3 4 5 6 7\n",
      "    bar      (x, y) int64 100 101 102 103 104 105 106 107)\n",
      "(Key(offsets={'x': 4, 'y': 0}, vars=None), <xarray.Dataset>\n",
      "Dimensions:  (x: 4, y: 2)\n",
      "Dimensions without coordinates: x, y\n",
      "Data variables:\n",
      "    foo      (x, y) int64 8 9 10 11 12 13 14 15\n",
      "    bar      (x, y) int64 108 109 110 111 112 113 114 115)\n"
     ]
    }
   ],
   "metadata": {}
  },
  {
   "cell_type": "markdown",
   "source": [
    "## Writing pipelines"
   ],
   "metadata": {}
  },
  {
   "cell_type": "markdown",
   "source": [
    "Transforms in Xarray-Beam typically act on (key, value) pairs of `(xbeam.Key, xarray.Dataset)`. For example, we can dump our dataset on disk in the scalable [Zarr](https://zarr.readthedocs.io/) format using {py:class}`~xarray_beam.ChunksToZarr`:"
   ],
   "metadata": {}
  },
  {
   "cell_type": "code",
   "execution_count": 66,
   "source": [
    "inputs | xbeam.ChunksToZarr('my-data.zarr')"
   ],
   "outputs": [
    {
     "output_type": "stream",
     "name": "stderr",
     "text": [
      "WARNING:apache_beam.options.pipeline_options:Discarding unparseable args: ['/Users/shoyer/miniconda3/envs/xarray-beam/lib/python3.9/site-packages/ipykernel_launcher.py', '-f', '/Users/shoyer/Library/Jupyter/runtime/kernel-f0f63827-5e6c-42f6-9eda-1f445e1ba489.json']\n",
      "WARNING:root:Make sure that locally built Python SDK docker image has Python 3.9 interpreter.\n"
     ]
    },
    {
     "output_type": "execute_result",
     "data": {
      "text/plain": [
       "[None, None]"
      ]
     },
     "metadata": {},
     "execution_count": 66
    }
   ],
   "metadata": {}
  },
  {
   "cell_type": "markdown",
   "source": [
    "Xarray-Beam doesn't try to provide transformations for everything. In particular, it omits most [embarrassingly parallel](https://en.wikipedia.org/wiki/Embarrassingly_parallel) operations that can be performed independently on each chunk of a larger dataset. You can write these yourself using [`beam.Map`](https://beam.apache.org/documentation/transforms/python/elementwise/map/).\n",
    "\n",
    "For example, consider elementwise arithmetic. We can write a `lambda` function that acts on each key-value pair updating the xarray.Dataset objects appropriately, and put it into an Xarray-Beam pipeline using `beam.MapTuple`:"
   ],
   "metadata": {}
  },
  {
   "cell_type": "code",
   "execution_count": 80,
   "source": [
    "inputs | beam.MapTuple(lambda k, v: (k, v + 1))"
   ],
   "outputs": [
    {
     "output_type": "stream",
     "name": "stderr",
     "text": [
      "WARNING:apache_beam.options.pipeline_options:Discarding unparseable args: ['/Users/shoyer/miniconda3/envs/xarray-beam/lib/python3.9/site-packages/ipykernel_launcher.py', '-f', '/Users/shoyer/Library/Jupyter/runtime/kernel-f0f63827-5e6c-42f6-9eda-1f445e1ba489.json']\n",
      "WARNING:root:Make sure that locally built Python SDK docker image has Python 3.9 interpreter.\n"
     ]
    },
    {
     "output_type": "execute_result",
     "data": {
      "text/plain": [
       "[(Key(offsets={'x': 0, 'y': 0}, vars=None),\n",
       "  <xarray.Dataset>\n",
       "  Dimensions:  (x: 4, y: 2)\n",
       "  Dimensions without coordinates: x, y\n",
       "  Data variables:\n",
       "      foo      (x, y) int64 1 2 3 4 5 6 7 8\n",
       "      bar      (x, y) int64 101 102 103 104 105 106 107 108),\n",
       " (Key(offsets={'x': 4, 'y': 0}, vars=None),\n",
       "  <xarray.Dataset>\n",
       "  Dimensions:  (x: 4, y: 2)\n",
       "  Dimensions without coordinates: x, y\n",
       "  Data variables:\n",
       "      foo      (x, y) int64 9 10 11 12 13 14 15 16\n",
       "      bar      (x, y) int64 109 110 111 112 113 114 115 116)]"
      ]
     },
     "metadata": {},
     "execution_count": 80
    }
   ],
   "metadata": {}
  },
  {
   "cell_type": "markdown",
   "source": [
    "For operations that add or remove (unchunked) dimensions, you may need to update `Key` objects as well to maintain the Xarray-Beam invariants, e.g., if we want to remove the `y` dimension entirely:"
   ],
   "metadata": {}
  },
  {
   "cell_type": "code",
   "execution_count": 82,
   "source": [
    "inputs | beam.MapTuple(lambda k, v: (k.with_offsets(y=None), v.mean('y')))"
   ],
   "outputs": [
    {
     "output_type": "stream",
     "name": "stderr",
     "text": [
      "WARNING:apache_beam.options.pipeline_options:Discarding unparseable args: ['/Users/shoyer/miniconda3/envs/xarray-beam/lib/python3.9/site-packages/ipykernel_launcher.py', '-f', '/Users/shoyer/Library/Jupyter/runtime/kernel-f0f63827-5e6c-42f6-9eda-1f445e1ba489.json']\n",
      "WARNING:root:Make sure that locally built Python SDK docker image has Python 3.9 interpreter.\n"
     ]
    },
    {
     "output_type": "execute_result",
     "data": {
      "text/plain": [
       "[(Key(offsets={'x': 0}, vars=None),\n",
       "  <xarray.Dataset>\n",
       "  Dimensions:  (x: 4)\n",
       "  Dimensions without coordinates: x\n",
       "  Data variables:\n",
       "      foo      (x) float64 0.5 2.5 4.5 6.5\n",
       "      bar      (x) float64 100.5 102.5 104.5 106.5),\n",
       " (Key(offsets={'x': 4}, vars=None),\n",
       "  <xarray.Dataset>\n",
       "  Dimensions:  (x: 4)\n",
       "  Dimensions without coordinates: x\n",
       "  Data variables:\n",
       "      foo      (x) float64 8.5 10.5 12.5 14.5\n",
       "      bar      (x) float64 108.5 110.5 112.5 114.5)]"
      ]
     },
     "metadata": {},
     "execution_count": 82
    }
   ],
   "metadata": {}
  },
  {
   "cell_type": "markdown",
   "source": [
    "```{note}\n",
    "Missing transformations in Xarray-Beam is partially an intentional design decision to reduce scope, and partially just a reflection of what we've gotten around to implementing. If after reading through the rest of docs you notice missing transformations or are wondering how to compute something in Xarray-Beam, please [open an issue](https://github.com/google/xarray-beam/issues) to discuss.\n",
    "```"
   ],
   "metadata": {}
  }
 ],
 "metadata": {
  "interpreter": {
   "hash": "aef148d7ea0dbd1f91630322dd5bc9e24a2135d95f24fe1a9dab9696856be2b9"
  },
  "kernelspec": {
   "display_name": "Python 3",
   "language": "python",
   "name": "python3"
  },
  "language_info": {
   "codemirror_mode": {
    "name": "ipython",
    "version": 3
   },
   "file_extension": ".py",
   "mimetype": "text/x-python",
   "name": "python",
   "nbconvert_exporter": "python",
   "pygments_lexer": "ipython3",
   "version": "3.9.6"
  }
 },
 "nbformat": 4,
 "nbformat_minor": 2
}